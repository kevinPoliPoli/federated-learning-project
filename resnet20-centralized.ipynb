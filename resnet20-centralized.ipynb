{
  "cells": [
    {
      "cell_type": "markdown",
      "metadata": {
        "id": "view-in-github",
        "colab_type": "text"
      },
      "source": [
        "<a href=\"https://colab.research.google.com/github/kevinPoliPoli/resnet20-centralized/blob/main/resnet20-centralized.ipynb\" target=\"_parent\"><img src=\"https://colab.research.google.com/assets/colab-badge.svg\" alt=\"Open In Colab\"/></a>"
      ]
    },
    {
      "cell_type": "markdown",
      "metadata": {
        "id": "ZC-7OoJPC-BY"
      },
      "source": [
        "<div class=\"markdown-google-sans\">\n",
        "\n",
        "## <strong>Dependencies and imports<strong/>\n",
        "</div>"
      ]
    },
    {
      "cell_type": "markdown",
      "metadata": {
        "id": "c9QcGnGPdX2C"
      },
      "source": [
        "\n",
        "**Install requirements**"
      ]
    },
    {
      "cell_type": "code",
      "execution_count": null,
      "metadata": {
        "id": "k9O3aM3Tb28q",
        "colab": {
          "base_uri": "https://localhost:8080/"
        },
        "outputId": "b4b534a3-a753-4e39-8824-c7e33fa90ae8"
      },
      "outputs": [
        {
          "output_type": "stream",
          "name": "stdout",
          "text": [
            "Looking in indexes: https://pypi.org/simple, https://us-python.pkg.dev/colab-wheels/public/simple/\n",
            "Requirement already satisfied: torch in /usr/local/lib/python3.10/dist-packages (2.0.1+cu118)\n",
            "Requirement already satisfied: filelock in /usr/local/lib/python3.10/dist-packages (from torch) (3.12.0)\n",
            "Requirement already satisfied: typing-extensions in /usr/local/lib/python3.10/dist-packages (from torch) (4.5.0)\n",
            "Requirement already satisfied: sympy in /usr/local/lib/python3.10/dist-packages (from torch) (1.11.1)\n",
            "Requirement already satisfied: networkx in /usr/local/lib/python3.10/dist-packages (from torch) (3.1)\n",
            "Requirement already satisfied: jinja2 in /usr/local/lib/python3.10/dist-packages (from torch) (3.1.2)\n",
            "Requirement already satisfied: triton==2.0.0 in /usr/local/lib/python3.10/dist-packages (from torch) (2.0.0)\n",
            "Requirement already satisfied: cmake in /usr/local/lib/python3.10/dist-packages (from triton==2.0.0->torch) (3.25.2)\n",
            "Requirement already satisfied: lit in /usr/local/lib/python3.10/dist-packages (from triton==2.0.0->torch) (16.0.5)\n",
            "Requirement already satisfied: MarkupSafe>=2.0 in /usr/local/lib/python3.10/dist-packages (from jinja2->torch) (2.1.2)\n",
            "Requirement already satisfied: mpmath>=0.19 in /usr/local/lib/python3.10/dist-packages (from sympy->torch) (1.3.0)\n",
            "Looking in indexes: https://pypi.org/simple, https://us-python.pkg.dev/colab-wheels/public/simple/\n",
            "Requirement already satisfied: torchvision in /usr/local/lib/python3.10/dist-packages (0.15.2+cu118)\n",
            "Requirement already satisfied: numpy in /usr/local/lib/python3.10/dist-packages (from torchvision) (1.22.4)\n",
            "Requirement already satisfied: requests in /usr/local/lib/python3.10/dist-packages (from torchvision) (2.27.1)\n",
            "Requirement already satisfied: torch==2.0.1 in /usr/local/lib/python3.10/dist-packages (from torchvision) (2.0.1+cu118)\n",
            "Requirement already satisfied: pillow!=8.3.*,>=5.3.0 in /usr/local/lib/python3.10/dist-packages (from torchvision) (8.4.0)\n",
            "Requirement already satisfied: filelock in /usr/local/lib/python3.10/dist-packages (from torch==2.0.1->torchvision) (3.12.0)\n",
            "Requirement already satisfied: typing-extensions in /usr/local/lib/python3.10/dist-packages (from torch==2.0.1->torchvision) (4.5.0)\n",
            "Requirement already satisfied: sympy in /usr/local/lib/python3.10/dist-packages (from torch==2.0.1->torchvision) (1.11.1)\n",
            "Requirement already satisfied: networkx in /usr/local/lib/python3.10/dist-packages (from torch==2.0.1->torchvision) (3.1)\n",
            "Requirement already satisfied: jinja2 in /usr/local/lib/python3.10/dist-packages (from torch==2.0.1->torchvision) (3.1.2)\n",
            "Requirement already satisfied: triton==2.0.0 in /usr/local/lib/python3.10/dist-packages (from torch==2.0.1->torchvision) (2.0.0)\n",
            "Requirement already satisfied: cmake in /usr/local/lib/python3.10/dist-packages (from triton==2.0.0->torch==2.0.1->torchvision) (3.25.2)\n",
            "Requirement already satisfied: lit in /usr/local/lib/python3.10/dist-packages (from triton==2.0.0->torch==2.0.1->torchvision) (16.0.5)\n",
            "Requirement already satisfied: urllib3<1.27,>=1.21.1 in /usr/local/lib/python3.10/dist-packages (from requests->torchvision) (1.26.15)\n",
            "Requirement already satisfied: certifi>=2017.4.17 in /usr/local/lib/python3.10/dist-packages (from requests->torchvision) (2022.12.7)\n",
            "Requirement already satisfied: charset-normalizer~=2.0.0 in /usr/local/lib/python3.10/dist-packages (from requests->torchvision) (2.0.12)\n",
            "Requirement already satisfied: idna<4,>=2.5 in /usr/local/lib/python3.10/dist-packages (from requests->torchvision) (3.4)\n",
            "Requirement already satisfied: MarkupSafe>=2.0 in /usr/local/lib/python3.10/dist-packages (from jinja2->torch==2.0.1->torchvision) (2.1.2)\n",
            "Requirement already satisfied: mpmath>=0.19 in /usr/local/lib/python3.10/dist-packages (from sympy->torch==2.0.1->torchvision) (1.3.0)\n",
            "Looking in indexes: https://pypi.org/simple, https://us-python.pkg.dev/colab-wheels/public/simple/\n",
            "Requirement already satisfied: Pillow-SIMD in /usr/local/lib/python3.10/dist-packages (9.0.0.post1)\n",
            "Looking in indexes: https://pypi.org/simple, https://us-python.pkg.dev/colab-wheels/public/simple/\n",
            "Requirement already satisfied: tqdm in /usr/local/lib/python3.10/dist-packages (4.65.0)\n",
            "Looking in indexes: https://pypi.org/simple, https://us-python.pkg.dev/colab-wheels/public/simple/\n",
            "Requirement already satisfied: torchinfo in /usr/local/lib/python3.10/dist-packages (1.8.0)\n"
          ]
        }
      ],
      "source": [
        "\n",
        "!pip3 install 'torch'\n",
        "!pip3 install 'torchvision'\n",
        "!pip3 install 'Pillow-SIMD'\n",
        "!pip3 install 'tqdm'\n",
        "\n",
        "!pip3 install torchinfo\n"
      ]
    },
    {
      "cell_type": "markdown",
      "metadata": {
        "id": "fo942LMOdlh4"
      },
      "source": [
        "**Import libraries**"
      ]
    },
    {
      "cell_type": "code",
      "execution_count": null,
      "metadata": {
        "id": "DokFOdD1dJEl"
      },
      "outputs": [],
      "source": [
        "import os\n",
        "import logging\n",
        "import numpy as np\n",
        "import matplotlib.pyplot as plt \n",
        "from statistics import mean \n",
        "\n",
        "import random\n",
        "import torch\n",
        "import torch.nn as nn\n",
        "import torch.optim as optim\n",
        "from torch.utils.data import Subset, DataLoader\n",
        "from torch.backends import cudnn\n",
        "from torchinfo import summary\n",
        "from torch.utils.data import random_split\n",
        "import torchvision\n",
        "from torchvision import transforms\n",
        "from torchvision.datasets import CIFAR100\n",
        "\n",
        "from PIL import Image\n",
        "from tqdm import tqdm"
      ]
    },
    {
      "cell_type": "markdown",
      "metadata": {
        "id": "eV1bmcwNDCq8"
      },
      "source": [
        "<div class=\"markdown-google-sans\">\n",
        "\n",
        "## <strong>Hyper-parameters and transformations<strong/>\n",
        "</div>"
      ]
    },
    {
      "cell_type": "markdown",
      "metadata": {
        "id": "OIDLJuIXK_vh"
      },
      "source": [
        "**Set Arguments**"
      ]
    },
    {
      "cell_type": "code",
      "execution_count": null,
      "metadata": {
        "id": "d5PkYfqfK_SA",
        "colab": {
          "base_uri": "https://localhost:8080/"
        },
        "outputId": "5e0bbc54-b561-4602-c90c-fb993958e330"
      },
      "outputs": [
        {
          "output_type": "stream",
          "name": "stderr",
          "text": [
            "Using cache found in /root/.cache/torch/hub/chenyaofo_pytorch-cifar-models_master\n",
            "Using cache found in /root/.cache/torch/hub/chenyaofo_pytorch-cifar-models_master\n",
            "Using cache found in /root/.cache/torch/hub/chenyaofo_pytorch-cifar-models_master\n",
            "Using cache found in /root/.cache/torch/hub/chenyaofo_pytorch-cifar-models_master\n"
          ]
        }
      ],
      "source": [
        "DEVICE = 'cuda' # 'cuda' or 'cpu'\n",
        "\n",
        "NUM_CLASSES = 100    # 101: There is am extra Background class that should be removed \n",
        "\n",
        "BATCH_SIZE = 64     # Higher batch sizes allows for larger learning rates. An empirical heuristic suggests that, when changing\n",
        "                     # the batch size, learning rate should change by the same factor to have comparable results\n",
        "\n",
        "LR = 0.01                # The initial Learning Rate\n",
        "MOMENTUM = 0.9          # Hyperparameter for SGD, keep this at 0.9 when using SGD\n",
        "WEIGHT_DECAY = 0.001   # Regularization, you can keep this at the default\n",
        "\n",
        "NUM_EPOCHS = 160   # Total number of training epochs (iterations over dataset)\n",
        "\n",
        "STEP_SIZE = 20      # How many epochs before decreasing learning rate (if using a step-down policy)\n",
        "GAMMA = 0.1          # Multiplicative factor for learning rate step-down\n",
        "\n",
        "LOG_FREQUENCY = 5\n",
        "\n",
        "AUG_PROB = 0.5   # the probability with witch each image is transformed at training time during each epoch\n",
        "AUG_TYPE = None      # define the type  of augmentation pipeline \n",
        "                     # None for no data augmentation"
      ]
    },
    {
      "cell_type": "markdown",
      "metadata": {
        "id": "9gwii0TBHvzh"
      },
      "source": [
        "**Define Data Preprocessing and Augmentation**"
      ]
    },
    {
      "cell_type": "code",
      "execution_count": null,
      "metadata": {
        "id": "QUDdw4j2H0Mc"
      },
      "outputs": [],
      "source": [
        "# Define transforms for training phase\n",
        "train_transform = transforms.Compose([ transforms.ToTensor()   # Remember this when applying different transformations, otherwise you get an error\n",
        "])\n",
        "\n",
        "#normalizeTest = transforms.Normalize((0.5089, 0.4874, 0.4419), (0.2683, 0.2574, 0.2771))\n",
        "# Define transforms for the evaluation phase\n",
        "eval_transform = transforms.Compose([ transforms.ToTensor(),   # Remember this when applying different transformations, otherwise you get an error\n",
        "#normalizeTest\n",
        "])"
      ]
    },
    {
      "cell_type": "markdown",
      "metadata": {
        "id": "JHGdmJjKOpjR"
      },
      "source": [
        "**FData augmentation**"
      ]
    },
    {
      "cell_type": "code",
      "execution_count": null,
      "metadata": {
        "id": "IfY0flp3riZL"
      },
      "outputs": [],
      "source": [
        "rc_t = transforms.RandomCrop(32, padding=4)\n",
        "hflip_t = transforms.RandomHorizontalFlip(p = 1)\n",
        "normalizer = transforms.Normalize(mean = (0.5071, 0.4867, 0.4408), std= (0.2675, 0.2565, 0.2761))\n",
        "\n",
        "aug_transformation = transforms.Compose([hflip_t, rc_t])\n",
        "\n",
        "aug_pipeline = transforms.Compose([   transforms.ToPILImage(),\n",
        "                                      transforms.RandomApply([aug_transformation], p = AUG_PROB),\n",
        "                                      transforms.ToTensor(),\n",
        "                                      normalizer\n",
        "                                  ])"
      ]
    },
    {
      "cell_type": "markdown",
      "metadata": {
        "id": "2qYIHPzYLY7i"
      },
      "source": [
        "**Prepare Dataset**"
      ]
    },
    {
      "cell_type": "code",
      "execution_count": null,
      "metadata": {
        "id": "QfVq_uDHLbsR",
        "colab": {
          "base_uri": "https://localhost:8080/"
        },
        "outputId": "01bfa3b2-6e17-482f-86a5-3553a703532a"
      },
      "outputs": [
        {
          "output_type": "stream",
          "name": "stdout",
          "text": [
            "Downloading https://www.cs.toronto.edu/~kriz/cifar-100-python.tar.gz to data/cifar-100-python.tar.gz\n"
          ]
        },
        {
          "output_type": "stream",
          "name": "stderr",
          "text": [
            "100%|██████████| 169001437/169001437 [00:21<00:00, 7918396.57it/s]\n"
          ]
        },
        {
          "output_type": "stream",
          "name": "stdout",
          "text": [
            "Extracting data/cifar-100-python.tar.gz to data\n",
            "Files already downloaded and verified\n",
            "-----------------------------------------\n",
            "CIFAR100 TRAIN Dataset: 50000\n",
            "CIFAR100 TEST Dataset: 10000\n",
            "-----------------------------------------\n",
            "Train Dataset: 45000\n",
            "Valid Dataset: 5000\n",
            "Test Dataset: 10000\n"
          ]
        }
      ],
      "source": [
        "from sklearn.model_selection import train_test_split\n",
        "\n",
        "# Prepare Pytorch train/test Datasets\n",
        "TRAIN_DATASET = CIFAR100(root=\"data\", train=True, download=True, transform=train_transform)\n",
        "TEST_DATASET = CIFAR100(root=\"data\", train=False, download=True, transform=eval_transform)\n",
        "\n",
        "train_set, val_set, _ = random_split(TRAIN_DATASET, [45000, 5000, 50000-len(TRAIN_DATASET)])\n",
        "\n",
        "# Check dataset sizes\n",
        "print('-----------------------------------------')\n",
        "print('CIFAR100 TRAIN Dataset: {}'.format(len(TRAIN_DATASET)))\n",
        "print('CIFAR100 TEST Dataset: {}'.format(len(TEST_DATASET)))\n",
        "print('-----------------------------------------')\n",
        "print('Train Dataset: {}'.format(len(train_set)))\n",
        "print('Valid Dataset: {}'.format(len(val_set)))\n",
        "print('Test Dataset: {}'.format(len(TEST_DATASET)))"
      ]
    },
    {
      "cell_type": "markdown",
      "metadata": {
        "id": "FYEDQ7Z21ldN"
      },
      "source": [
        "**Prepare Dataloaders**"
      ]
    },
    {
      "cell_type": "code",
      "execution_count": null,
      "metadata": {
        "id": "VriRw8SI1nle",
        "outputId": "d68bf31a-6b6c-4c1a-9336-6177fb5bc22b",
        "colab": {
          "base_uri": "https://localhost:8080/"
        }
      },
      "outputs": [
        {
          "output_type": "stream",
          "name": "stdout",
          "text": [
            "703\n",
            "79\n",
            "157\n"
          ]
        }
      ],
      "source": [
        "# Dataloaders iterate over pytorch datasets and transparently provide useful functions (e.g. parallelization and shuffling)\n",
        "train_dataloader = DataLoader(train_set, batch_size=BATCH_SIZE, shuffle=True, num_workers=2, drop_last=True)\n",
        "val_dataloader = DataLoader(val_set, batch_size=BATCH_SIZE, shuffle=False, num_workers=2)\n",
        "test_dataloader = DataLoader(TEST_DATASET, batch_size=BATCH_SIZE, shuffle=False, num_workers=2)\n",
        "\n",
        "print(len(train_dataloader))\n",
        "print(len(val_dataloader))\n",
        "print(len(test_dataloader))"
      ]
    },
    {
      "cell_type": "markdown",
      "metadata": {
        "id": "G-EP-roAyJNz"
      },
      "source": [
        "<div class=\"markdown-google-sans\">\n",
        "\n",
        "## <strong>ResNet definition<strong/>\n",
        "</div>"
      ]
    },
    {
      "cell_type": "code",
      "execution_count": null,
      "metadata": {
        "id": "PMQLyQGFyhn1"
      },
      "outputs": [],
      "source": [
        "def _weights_init(m):\n",
        "    classname = m.__class__.__name__\n",
        "    print(classname)\n",
        "    if isinstance(m, nn.Linear) or isinstance(m, nn.Conv2d):\n",
        "        init.kaiming_normal_(m.weight)\n",
        "\n",
        "class ResNet20(nn.Module):\n",
        "    def __init__(self, num_classes):\n",
        "        super(ResNet20, self).__init__()\n",
        "\n",
        "        self.num_classes = 100\n",
        "        self.image_channels = 3\n",
        "        self.in_channels = 16\n",
        "\n",
        "        self.conv1 = nn.Conv2d(self.image_channels, 16, kernel_size=3, stride=1, padding=1, bias=False)\n",
        "        #self.bn1 = nn.BatchNorm2d(16)\n",
        "        self.gn1 = nn.GroupNorm(2, 16)\n",
        "        self.relu = nn.ReLU()\n",
        "        #self.maxpool = nn.MaxPool2d(kernel_size=3, stride=2, padding=1)\n",
        "\n",
        "        self.layer1 = nn.Sequential(\n",
        "            #first block\n",
        "            nn.Conv2d(16, 16, kernel_size=3, stride=1, padding=1, bias=False),\n",
        "            #nn.BatchNorm2d(16),\n",
        "            nn.GroupNorm(2, 16),\n",
        "            nn.ReLU(),\n",
        "            nn.Conv2d(16, 16, kernel_size=3, stride=1, padding=1, bias=False),\n",
        "            #nn.BatchNorm2d(16),\n",
        "            nn.GroupNorm(2, 16),\n",
        "            nn.ReLU(),\n",
        "            \n",
        "            #second block\n",
        "            nn.Conv2d(16, 16, kernel_size=3, stride=1, padding=1, bias=False),\n",
        "            #nn.BatchNorm2d(16),\n",
        "            nn.GroupNorm(2, 16),\n",
        "            nn.ReLU(),\n",
        "            nn.Conv2d(16, 16, kernel_size=3, stride=1, padding=1, bias=False),\n",
        "            #nn.BatchNorm2d(16),\n",
        "            nn.GroupNorm(2, 16),\n",
        "            nn.ReLU(),\n",
        "\n",
        "            #third block\n",
        "            nn.Conv2d(16, 16, kernel_size=3, stride=1, padding=1, bias=False),\n",
        "            #nn.BatchNorm2d(16),\n",
        "            nn.GroupNorm(2, 16),\n",
        "            nn.ReLU(),\n",
        "            nn.Conv2d(16, 16, kernel_size=3, stride=1, padding=1, bias=False),\n",
        "            #nn.BatchNorm2d(16),\n",
        "            nn.GroupNorm(2, 16),\n",
        "            nn.ReLU()\n",
        "            \n",
        "        )\n",
        "        \n",
        "        self.layer2_1 = nn.Sequential(\n",
        "            nn.Conv2d(16, 32, kernel_size=3, stride=2, padding=1, bias=False),\n",
        "            #nn.BatchNorm2d(32),\n",
        "            nn.GroupNorm(2, 32),\n",
        "            nn.ReLU(),\n",
        "            nn.Conv2d(32, 32, kernel_size=3, stride=1, padding=1, bias=False),\n",
        "            #nn.BatchNorm2d(32),\n",
        "            nn.GroupNorm(2, 32),\n",
        "        )    \n",
        "        \n",
        "\n",
        "        self.layer2_2 = nn.Sequential(\n",
        "            nn.Conv2d(32, 32, kernel_size=3, stride=1, padding=1, bias=False),\n",
        "            #nn.BatchNorm2d(32),\n",
        "            nn.GroupNorm(2, 32),\n",
        "            nn.ReLU(),\n",
        "            nn.Conv2d(32, 32, kernel_size=3, stride=1, padding=1, bias=False),\n",
        "            #nn.BatchNorm2d(32),\n",
        "            nn.GroupNorm(2, 32),\n",
        "            nn.ReLU(),\n",
        "        )\n",
        "\n",
        "        self.layer2_3 = nn.Sequential(\n",
        "            nn.Conv2d(32, 32, kernel_size=3, stride=1, padding=1, bias=False),\n",
        "            #nn.BatchNorm2d(32),\n",
        "            nn.GroupNorm(2, 32),\n",
        "            nn.ReLU(),\n",
        "            nn.Conv2d(32, 32, kernel_size=3, stride=1, padding=1, bias=False),\n",
        "            #nn.BatchNorm2d(32),\n",
        "            nn.GroupNorm(2, 32),\n",
        "            nn.ReLU(),\n",
        "\n",
        "        )\n",
        "\n",
        "        self.identity_2 = nn.Sequential(\n",
        "                nn.Conv2d(16,32,kernel_size=1,stride=2,bias=False),\n",
        "                #nn.BatchNorm2d(32),\n",
        "                nn.GroupNorm(2, 32),\n",
        "            )\n",
        "            \n",
        "\n",
        "        self.layer3 = nn.Sequential(\n",
        "            nn.Conv2d(32, 64, kernel_size=3, stride=2, padding=1, bias=False),\n",
        "            #nn.BatchNorm2d(64),\n",
        "            nn.GroupNorm(2, 64),\n",
        "            nn.ReLU(),\n",
        "            nn.Conv2d(64, 64, kernel_size=3, stride=1, padding=1, bias=False),\n",
        "            #nn.BatchNorm2d(64),\n",
        "            nn.GroupNorm(2, 64),\n",
        "        \n",
        "        )  \n",
        "\n",
        "        self.layer3_2 = nn.Sequential(\n",
        "            \n",
        "            nn.Conv2d(64, 64, kernel_size=3, stride=1, padding=1, bias=False),\n",
        "            #nn.BatchNorm2d(64),\n",
        "            nn.GroupNorm(2, 64),\n",
        "            nn.ReLU(),\n",
        "            nn.Conv2d(64, 64, kernel_size=3, stride=1, padding=1, bias=False),\n",
        "            #nn.BatchNorm2d(64),\n",
        "            nn.GroupNorm(2, 64),\n",
        "            nn.ReLU(),\n",
        "             \n",
        "        )\n",
        "\n",
        "        self.layer3_3 = nn.Sequential(\n",
        "            \n",
        "            nn.Conv2d(64, 64, kernel_size=3, stride=1, padding=1, bias=False),\n",
        "            #nn.BatchNorm2d(64),\n",
        "            nn.GroupNorm(2, 64),\n",
        "            nn.ReLU(),\n",
        "            nn.Conv2d(64, 64, kernel_size=3, stride=1, padding=1, bias=False),\n",
        "            #nn.BatchNorm2d(64),\n",
        "            nn.GroupNorm(2, 64),\n",
        "            nn.ReLU(),\n",
        "             \n",
        "        )\n",
        "\n",
        "        self.identity_3 = nn.Sequential(\n",
        "                nn.Conv2d(32,64,kernel_size=1,stride=2,bias=False),\n",
        "                #nn.BatchNorm2d(64),\n",
        "                nn.GroupNorm(2, 64),\n",
        "            )\n",
        "\n",
        "\n",
        "\n",
        "        self.avgpool = nn.AdaptiveAvgPool2d((1, 1))\n",
        "        self.fc = nn.Linear(64, self.num_classes)\n",
        "\n",
        "        #self.apply(_weights_init)\n",
        "\n",
        "        #self.size = self.model_size()\n",
        "\n",
        "    def forward(self, x):\n",
        "        #base\n",
        "        x = self.conv1(x)\n",
        "        #x = self.bn1(x)\n",
        "        x = self.gn1(x)\n",
        "        x = self.relu(x)\n",
        "        #x = self.maxpool(x)\n",
        "        \n",
        "        #16\n",
        "        x = self.layer1(x)\n",
        "\n",
        "        #32\n",
        "        identity = x.clone()\n",
        "        x = self.layer2_1(x)\n",
        "        identity = self.identity_2(identity)\n",
        "        x = x.clone() + identity\n",
        "        x = self.relu(x)\n",
        "        x = self.layer2_2(x)\n",
        "        x = self.layer2_3(x)\n",
        "        \n",
        "        #64\n",
        "        identity = x.clone()\n",
        "        x = self.layer3(x)\n",
        "        identity = self.identity_3(identity)\n",
        "        x = x.clone() + identity\n",
        "        x = self.relu(x)\n",
        "        x = self.layer3_2(x)\n",
        "        x = self.layer3_3(x)\n",
        "        \n",
        "        x = self.avgpool(x)\n",
        "        x = x.reshape(x.shape[0], -1)\n",
        "        x = self.fc(x)\n",
        "\n",
        "        return x\n",
        "    \n",
        "    \"\"\"\n",
        "    def model_size(self):\n",
        "        tot_size = 0\n",
        "        for param in self.parameters():\n",
        "            tot_size += param.size()[0]\n",
        "        return tot_size\n",
        "    \"\"\"\n",
        "\n"
      ]
    },
    {
      "cell_type": "markdown",
      "metadata": {
        "id": "hrKp81ptPknY"
      },
      "source": [
        "<div class=\"markdown-google-sans\">\n",
        "\n",
        "## <strong>Training<strong/>\n",
        "</div>"
      ]
    },
    {
      "cell_type": "markdown",
      "metadata": {
        "id": "KEyL3H_R4qCf"
      },
      "source": [
        "**Prepare Training**"
      ]
    },
    {
      "cell_type": "code",
      "execution_count": null,
      "metadata": {
        "id": "9sjq00G94tSc"
      },
      "outputs": [],
      "source": [
        "net = ResNet20(100).cuda();\n",
        "net_summary = summary(net, input_size=(BATCH_SIZE,3,32,32), depth=4) \n",
        "print(str(net_summary)) #show the model architecture\n",
        "\n",
        "# Define loss function\n",
        "criterion = nn.CrossEntropyLoss() # for classification, we use Cross Entropy\n",
        "\n",
        "# Choose parameters to optimize\n",
        "parameters_to_optimize = net.parameters()\n",
        "\n",
        "# Define optimizer\n",
        "optimizer = optim.SGD(parameters_to_optimize, lr=LR, momentum=MOMENTUM, weight_decay=WEIGHT_DECAY)\n",
        "\n",
        "# Define scheduler\n",
        "T_max = NUM_EPOCHS\n",
        "scheduler = torch.optim.lr_scheduler.CosineAnnealingLR(optimizer, T_max, eta_min=0.00000015)\n",
        "#scheduler = torch.optim.lr_scheduler.CosineAnnealingWarmRestarts(optimizer, STEP_SIZE, eta_min=0.000015)"
      ]
    },
    {
      "cell_type": "markdown",
      "metadata": {
        "id": "UsHFI-GAJd69"
      },
      "source": [
        "**Validation**"
      ]
    },
    {
      "cell_type": "code",
      "execution_count": null,
      "metadata": {
        "id": "EO3HV5pqJg1o"
      },
      "outputs": [],
      "source": [
        "\n",
        "def evaluate(net, dataloader, last_accuracy, update, print_tqdm = True):\n",
        "  \n",
        "  with torch.no_grad():\n",
        "    net = net.to(DEVICE) # this will bring the network to GPU if DEVICE is cuda\n",
        "    net.train(False) # Set Network to evaluation mode\n",
        "    running_corrects = 0\n",
        "    iterable = tqdm(dataloader) if print_tqdm else dataloader\n",
        "    losses = []\n",
        "    for images, labels in iterable: \n",
        "      norm_images = []\n",
        "      for image in images:\n",
        "        norm_image = normalizer(image)\n",
        "        norm_images.append(norm_image)\n",
        "      norm_images = torch.stack(norm_images)  \n",
        "      norm_images = norm_images.to(DEVICE)\n",
        "      labels = labels.to(DEVICE)\n",
        "      # Forward Pass\n",
        "      outputs = net(norm_images)\n",
        "      loss = criterion(outputs, labels)\n",
        "      losses.append(loss.item())\n",
        "      # Get predictions\n",
        "      _, preds = torch.max(outputs.data, 1)\n",
        "      print(preds)\n",
        "      # Update Corrects\n",
        "      running_corrects += torch.sum(preds == labels.data).data.item()\n",
        "    # Calculate Accuracy\n",
        "    accuracy = running_corrects / float(len(dataloader.dataset))\n",
        "    if update is True:\n",
        "      if accuracy > last_accuracy:\n",
        "        torch.save(net.state_dict(), \"model.pth\")\n",
        "        last_accuracy = accuracy\n",
        "        print(\"model updated\")\n",
        "      else:\n",
        "        print(\"model not updated\")\n",
        "\n",
        "  return accuracy, mean(losses), last_accuracy"
      ]
    },
    {
      "cell_type": "code",
      "source": [
        "\n",
        "def evaluateTest(net, dataloader, print_tqdm = True):\n",
        "  normalizeTest = transforms.Normalize((0.5089, 0.4874, 0.4419), (0.2683, 0.2574, 0.2771))\n",
        "  net.load_state_dict(torch.load(\"model.pth\"))\n",
        "  with torch.no_grad():\n",
        "    net = net.to(DEVICE) # this will bring the network to GPU if DEVICE is cuda\n",
        "    net.train(False) # Set Network to evaluation mode\n",
        "    running_corrects = 0\n",
        "    iterable = tqdm(dataloader) if print_tqdm else dataloader\n",
        "    losses = []\n",
        "    for images, labels in iterable: \n",
        "      norm_images = []\n",
        "      for image in images:\n",
        "        norm_image = normalizeTest(image)\n",
        "        norm_images.append(norm_image)\n",
        "      norm_images = torch.stack(norm_images)  \n",
        "      norm_images = norm_images.to(DEVICE)\n",
        "      labels = labels.to(DEVICE)\n",
        "      # Forward Pass\n",
        "      outputs = net(norm_images)\n",
        "      loss = criterion(outputs, labels)\n",
        "      losses.append(loss.item())\n",
        "      # Get predictions\n",
        "      _, preds = torch.max(outputs.data, 1)\n",
        "      # Update Corrects\n",
        "      running_corrects += torch.sum(preds == labels.data).data.item()\n",
        "    # Calculate Accuracy\n",
        "    accuracy = running_corrects / float(len(dataloader.dataset))\n",
        "\n",
        "    \n",
        "\n",
        "  return accuracy, mean(losses)"
      ],
      "metadata": {
        "id": "LZPVP1HMeacW"
      },
      "execution_count": null,
      "outputs": []
    },
    {
      "cell_type": "markdown",
      "metadata": {
        "id": "AxYUli9d9uYQ"
      },
      "source": [
        "**Train and Validation**"
      ]
    },
    {
      "cell_type": "code",
      "execution_count": null,
      "metadata": {
        "id": "ZcoQ5fD49yT_"
      },
      "outputs": [],
      "source": [
        "# By default, everything is loaded to cpu\n",
        "net = net.to(DEVICE) # this will bring the network to GPU if DEVICE is cuda\n",
        "\n",
        "cudnn.benchmark # Calling this optimizes runtime\n",
        "\n",
        "current_step = 0\n",
        "\n",
        "val_accuracies = []\n",
        "val_losses = []\n",
        "train_accuracies = []\n",
        "train_losses = []\n",
        "last_accuracy = 0\n",
        "\n",
        "# Start iterating over the epochs\n",
        "for epoch in range(NUM_EPOCHS):\n",
        "  print('Starting epoch {}/{}, LR = {}'.format(epoch+1, NUM_EPOCHS, scheduler.get_last_lr()))\n",
        "\n",
        "  # Iterate over the dataset\n",
        "  for images, labels in train_dataloader:\n",
        "    \n",
        "    aug_images = []\n",
        "\n",
        "    for image in images:\n",
        "      aug_image = aug_pipeline(image).to(DEVICE)\n",
        "      aug_images.append(aug_image) \n",
        "\n",
        "    aug_images = torch.stack(aug_images)\n",
        "\n",
        "    # Bring data over the device of choice\n",
        "    aug_images = aug_images.to(DEVICE)\n",
        "    \n",
        "\n",
        "    labels = labels.to(DEVICE)\n",
        "\n",
        "    net.train() # Sets module in training mode\n",
        "\n",
        "    optimizer.zero_grad() # Zero-ing the gradients\n",
        "\n",
        "    # Forward pass to the network\n",
        "    outputs = net(aug_images)\n",
        "\n",
        "    # Compute loss based on output and ground truth\n",
        "    loss = criterion(outputs, labels)\n",
        "\n",
        "    # Log loss\n",
        "    if current_step % LOG_FREQUENCY == 0:\n",
        "      print('Step {}, Loss {}'.format(current_step, loss.item()))\n",
        "\n",
        "    # Compute gradients for each layer and update weights\n",
        "    loss.backward()  # backward pass: computes gradients\n",
        "    optimizer.step() # update weights based on accumulated gradients\n",
        "\n",
        "    current_step += 1\n",
        "\n",
        "  train_acc, train_loss, _ = evaluate(net, train_dataloader, last_accuracy, update=False, print_tqdm = False)\n",
        "  train_accuracies.append(train_acc)\n",
        "  train_losses.append(train_loss)\n",
        "  \n",
        "  val_acc, val_loss, last_accuracy = evaluate(net, val_dataloader, last_accuracy, update=True, print_tqdm = False)\n",
        "  val_accuracies.append(val_acc)\n",
        "  val_losses.append(val_loss)\n",
        "\n",
        "  # Step the scheduler\n",
        "  scheduler.step() \n"
      ]
    },
    {
      "cell_type": "code",
      "source": [],
      "metadata": {
        "id": "XhkV4GSZyI7_"
      },
      "execution_count": null,
      "outputs": []
    },
    {
      "cell_type": "code",
      "execution_count": null,
      "metadata": {
        "id": "lqG2vNpvEiWi"
      },
      "outputs": [],
      "source": [
        "import pandas as pd\n",
        "import matplotlib.pyplot as plt\n",
        "\n",
        "print(\"Best accuracies on the validation set: \", val_acc)\n",
        "\n",
        "results_df = pd.DataFrame(zip(range(1,NUM_EPOCHS+1), train_accuracies, val_accuracies, train_losses, val_losses), columns = [\"epoch\", \"train_accuracy\", \"val_accuracy\", \"train_loss\", \"val_loss\"])\n",
        "results_df.set_index(\"epoch\")\n",
        "results_df.plot(x = \"epoch\", y = [\"train_accuracy\", \"val_accuracy\"])\n",
        "results_df.plot(x = \"epoch\", y = [\"train_loss\", \"val_loss\"])\n"
      ]
    },
    {
      "cell_type": "markdown",
      "metadata": {
        "id": "jxekmR745ySe"
      },
      "source": [
        "**Test**"
      ]
    },
    {
      "cell_type": "code",
      "execution_count": null,
      "metadata": {
        "id": "fSHcUqLB5yWO"
      },
      "outputs": [],
      "source": [
        "state_dict = torch.load(\"model.pth\")\n",
        "net.load_state_dict(state_dict)\n",
        "accuracy = evaluateTest(net, test_dataloader)[0]\n",
        "print('\\nTest Accuracy: {}'.format(accuracy))"
      ]
    }
  ],
  "metadata": {
    "accelerator": "GPU",
    "colab": {
      "provenance": [],
      "include_colab_link": true
    },
    "kernelspec": {
      "display_name": "Python 3",
      "name": "python3"
    }
  },
  "nbformat": 4,
  "nbformat_minor": 0
}